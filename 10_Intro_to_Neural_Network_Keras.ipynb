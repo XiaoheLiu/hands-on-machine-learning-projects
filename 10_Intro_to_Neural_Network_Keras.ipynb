{
 "cells": [
  {
   "cell_type": "markdown",
   "metadata": {},
   "source": [
    "# 10. Training Neural Networks with Keras "
   ]
  },
  {
   "cell_type": "code",
   "execution_count": 16,
   "metadata": {},
   "outputs": [],
   "source": [
    "import tensorflow as tf\n",
    "from tensorflow import keras\n",
    "from tensorflow.keras import layers\n",
    "\n",
    "import pandas as pd\n",
    "import numpy as np\n",
    "import matplotlib.pyplot as plt"
   ]
  },
  {
   "cell_type": "code",
   "execution_count": 2,
   "metadata": {},
   "outputs": [
    {
     "data": {
      "text/plain": [
       "'2.0.0-alpha0'"
      ]
     },
     "execution_count": 2,
     "metadata": {},
     "output_type": "execute_result"
    }
   ],
   "source": [
    "tf.__version__"
   ]
  },
  {
   "cell_type": "code",
   "execution_count": 3,
   "metadata": {},
   "outputs": [
    {
     "data": {
      "text/plain": [
       "'2.2.4-tf'"
      ]
     },
     "execution_count": 3,
     "metadata": {},
     "output_type": "execute_result"
    }
   ],
   "source": [
    "keras.__version__"
   ]
  },
  {
   "cell_type": "markdown",
   "metadata": {},
   "source": [
    "## Import the MNIST dataset "
   ]
  },
  {
   "cell_type": "code",
   "execution_count": 4,
   "metadata": {},
   "outputs": [],
   "source": [
    "mnist = keras.datasets.mnist\n",
    "(X_train_full, y_train_full), (X_test, y_test) = mnist.load_data()"
   ]
  },
  {
   "cell_type": "code",
   "execution_count": 5,
   "metadata": {},
   "outputs": [
    {
     "data": {
      "text/plain": [
       "(60000, 28, 28)"
      ]
     },
     "execution_count": 5,
     "metadata": {},
     "output_type": "execute_result"
    }
   ],
   "source": [
    "X_train_full.shape"
   ]
  },
  {
   "cell_type": "code",
   "execution_count": 6,
   "metadata": {},
   "outputs": [
    {
     "data": {
      "text/plain": [
       "dtype('uint8')"
      ]
     },
     "execution_count": 6,
     "metadata": {},
     "output_type": "execute_result"
    }
   ],
   "source": [
    "X_train_full.dtype"
   ]
  },
  {
   "cell_type": "code",
   "execution_count": 8,
   "metadata": {},
   "outputs": [
    {
     "data": {
      "text/plain": [
       "(60000,)"
      ]
     },
     "execution_count": 8,
     "metadata": {},
     "output_type": "execute_result"
    }
   ],
   "source": [
    "y_train_full.shape"
   ]
  },
  {
   "cell_type": "code",
   "execution_count": 7,
   "metadata": {},
   "outputs": [],
   "source": [
    "X_train_full = X_train_full / 255.0\n",
    "X_test = X_test / 255.0\n",
    "X_valid, X_train = X_train_full[:5000], X_train_full[5000:]\n",
    "y_valid, y_train = y_train_full[:5000], y_train_full[5000:]"
   ]
  },
  {
   "cell_type": "markdown",
   "metadata": {},
   "source": [
    "## 1. Training Model with **Sequential API**\n",
    "### (1) Define the model\n",
    "\n",
    "Alternatively, you can add the layers one by one:\n",
    "```python\n",
    "model = keras.models.Sequential()\n",
    "model.add(keras.layers.InputLayer(input_shape=input_shape))\n",
    "    for layer in range(n_hidden):\n",
    "        model.add(keras.layers.Dense(n_neurons, activation=\"relu\"))\n",
    "model.add(keras.layers.Dense(1))\n",
    "optimizer = keras.optimizers.SGD(lr=learning_rate)\n",
    "model.compile(loss=\"mse\", optimizer=optimizer)\n",
    "```"
   ]
  },
  {
   "cell_type": "code",
   "execution_count": 11,
   "metadata": {},
   "outputs": [
    {
     "name": "stdout",
     "output_type": "stream",
     "text": [
      "Model: \"sequential\"\n",
      "_________________________________________________________________\n",
      "Layer (type)                 Output Shape              Param #   \n",
      "=================================================================\n",
      "flatten (Flatten)            (None, 784)               0         \n",
      "_________________________________________________________________\n",
      "dense (Dense)                (None, 25)                19625     \n",
      "_________________________________________________________________\n",
      "dense_1 (Dense)              (None, 10)                260       \n",
      "=================================================================\n",
      "Total params: 19,885\n",
      "Trainable params: 19,885\n",
      "Non-trainable params: 0\n",
      "_________________________________________________________________\n"
     ]
    }
   ],
   "source": [
    "model = keras.models.Sequential([\n",
    "    layers.Flatten(input_shape=[28, 28]),\n",
    "    layers.Dense(25, activation=\"relu\"),\n",
    "    layers.Dense(10, activation=\"softmax\"),\n",
    "])\n",
    "model.summary()"
   ]
  },
  {
   "cell_type": "markdown",
   "metadata": {},
   "source": [
    "#### API's for checking and manipulating layers:\n",
    "- Get a list of the model's layers: `model.layers`\n",
    "- Access to parameters: `weights, biases = hidden.get_weights()`\n",
    "- Set weights: `hidden.set_weights()`\n",
    "\n",
    "### (2) Compile the model"
   ]
  },
  {
   "cell_type": "code",
   "execution_count": 14,
   "metadata": {},
   "outputs": [],
   "source": [
    "model.compile(loss=\"sparse_categorical_crossentropy\",\n",
    "              optimizer=\"sgd\",\n",
    "              metrics=[\"accuracy\"])"
   ]
  },
  {
   "cell_type": "markdown",
   "metadata": {},
   "source": [
    "### (3) Training the model"
   ]
  },
  {
   "cell_type": "code",
   "execution_count": 20,
   "metadata": {
    "scrolled": true
   },
   "outputs": [
    {
     "name": "stdout",
     "output_type": "stream",
     "text": [
      "Train on 55000 samples, validate on 5000 samples\n",
      "Epoch 1/30\n",
      "55000/55000 [==============================] - 4s 65us/sample - loss: 0.3086 - accuracy: 0.9123 - val_loss: 0.2902 - val_accuracy: 0.9184\n",
      "Epoch 2/30\n",
      "55000/55000 [==============================] - 3s 51us/sample - loss: 0.3064 - accuracy: 0.9132 - val_loss: 0.2878 - val_accuracy: 0.9190\n",
      "Epoch 3/30\n",
      "55000/55000 [==============================] - 3s 52us/sample - loss: 0.3042 - accuracy: 0.9136 - val_loss: 0.2857 - val_accuracy: 0.9196\n",
      "Epoch 4/30\n",
      "55000/55000 [==============================] - 3s 48us/sample - loss: 0.3020 - accuracy: 0.9141 - val_loss: 0.2838 - val_accuracy: 0.9184\n",
      "Epoch 5/30\n",
      "55000/55000 [==============================] - 3s 52us/sample - loss: 0.3000 - accuracy: 0.9149 - val_loss: 0.2823 - val_accuracy: 0.9208\n",
      "Epoch 6/30\n",
      "55000/55000 [==============================] - 3s 53us/sample - loss: 0.2980 - accuracy: 0.9153 - val_loss: 0.2804 - val_accuracy: 0.9204\n",
      "Epoch 7/30\n",
      "55000/55000 [==============================] - 3s 54us/sample - loss: 0.2960 - accuracy: 0.9158 - val_loss: 0.2787 - val_accuracy: 0.9210\n",
      "Epoch 8/30\n",
      "55000/55000 [==============================] - 3s 52us/sample - loss: 0.2942 - accuracy: 0.9165 - val_loss: 0.2772 - val_accuracy: 0.9212\n",
      "Epoch 9/30\n",
      "55000/55000 [==============================] - 3s 50us/sample - loss: 0.2923 - accuracy: 0.9168 - val_loss: 0.2757 - val_accuracy: 0.9232\n",
      "Epoch 10/30\n",
      "55000/55000 [==============================] - 3s 49us/sample - loss: 0.2906 - accuracy: 0.9176 - val_loss: 0.2744 - val_accuracy: 0.9236\n",
      "Epoch 11/30\n",
      "55000/55000 [==============================] - 3s 48us/sample - loss: 0.2889 - accuracy: 0.9182 - val_loss: 0.2727 - val_accuracy: 0.9240\n",
      "Epoch 12/30\n",
      "55000/55000 [==============================] - 3s 51us/sample - loss: 0.2871 - accuracy: 0.9182 - val_loss: 0.2713 - val_accuracy: 0.9246\n",
      "Epoch 13/30\n",
      "55000/55000 [==============================] - 3s 53us/sample - loss: 0.2855 - accuracy: 0.9192 - val_loss: 0.2698 - val_accuracy: 0.9258\n",
      "Epoch 14/30\n",
      "55000/55000 [==============================] - 3s 55us/sample - loss: 0.2840 - accuracy: 0.9196 - val_loss: 0.2684 - val_accuracy: 0.9258\n",
      "Epoch 15/30\n",
      "55000/55000 [==============================] - 3s 54us/sample - loss: 0.2823 - accuracy: 0.9195 - val_loss: 0.2671 - val_accuracy: 0.9252\n",
      "Epoch 16/30\n",
      "55000/55000 [==============================] - 3s 54us/sample - loss: 0.2808 - accuracy: 0.9204 - val_loss: 0.2661 - val_accuracy: 0.9266\n",
      "Epoch 17/30\n",
      "55000/55000 [==============================] - 3s 52us/sample - loss: 0.2793 - accuracy: 0.9206 - val_loss: 0.2648 - val_accuracy: 0.9270\n",
      "Epoch 18/30\n",
      "55000/55000 [==============================] - 3s 52us/sample - loss: 0.2778 - accuracy: 0.9208 - val_loss: 0.2633 - val_accuracy: 0.9264\n",
      "Epoch 19/30\n",
      "55000/55000 [==============================] - 3s 50us/sample - loss: 0.2764 - accuracy: 0.9214 - val_loss: 0.2623 - val_accuracy: 0.9260\n",
      "Epoch 20/30\n",
      "55000/55000 [==============================] - 3s 52us/sample - loss: 0.2749 - accuracy: 0.9214 - val_loss: 0.2613 - val_accuracy: 0.9274\n",
      "Epoch 21/30\n",
      "55000/55000 [==============================] - 3s 51us/sample - loss: 0.2735 - accuracy: 0.9220 - val_loss: 0.2602 - val_accuracy: 0.9274\n",
      "Epoch 22/30\n",
      "55000/55000 [==============================] - 3s 53us/sample - loss: 0.2722 - accuracy: 0.9224 - val_loss: 0.2591 - val_accuracy: 0.9280\n",
      "Epoch 23/30\n",
      "55000/55000 [==============================] - 3s 53us/sample - loss: 0.2707 - accuracy: 0.9232 - val_loss: 0.2580 - val_accuracy: 0.9284\n",
      "Epoch 24/30\n",
      "55000/55000 [==============================] - 3s 55us/sample - loss: 0.2694 - accuracy: 0.9237 - val_loss: 0.2570 - val_accuracy: 0.9292\n",
      "Epoch 25/30\n",
      "55000/55000 [==============================] - 3s 56us/sample - loss: 0.2681 - accuracy: 0.9239 - val_loss: 0.2557 - val_accuracy: 0.9298\n",
      "Epoch 26/30\n",
      "55000/55000 [==============================] - 3s 55us/sample - loss: 0.2668 - accuracy: 0.9246 - val_loss: 0.2549 - val_accuracy: 0.9292\n",
      "Epoch 27/30\n",
      "55000/55000 [==============================] - 3s 50us/sample - loss: 0.2656 - accuracy: 0.9248 - val_loss: 0.2537 - val_accuracy: 0.9296\n",
      "Epoch 28/30\n",
      "55000/55000 [==============================] - 3s 49us/sample - loss: 0.2643 - accuracy: 0.9249 - val_loss: 0.2526 - val_accuracy: 0.9302\n",
      "Epoch 29/30\n",
      "55000/55000 [==============================] - 3s 49us/sample - loss: 0.2630 - accuracy: 0.9253 - val_loss: 0.2517 - val_accuracy: 0.9306\n",
      "Epoch 30/30\n",
      "55000/55000 [==============================] - 3s 48us/sample - loss: 0.2618 - accuracy: 0.9256 - val_loss: 0.2507 - val_accuracy: 0.9306\n"
     ]
    }
   ],
   "source": [
    "history = model.fit(X_train, y_train, epochs=30, \n",
    "                    validation_data=(X_valid, y_valid))"
   ]
  },
  {
   "cell_type": "markdown",
   "metadata": {},
   "source": [
    "Note: instead of setting `validation_data`, could set `validation_split=0.1` for cross validation."
   ]
  },
  {
   "cell_type": "code",
   "execution_count": 21,
   "metadata": {},
   "outputs": [
    {
     "data": {
      "image/png": "[encoded data removed]",
      "text/plain": [
       "<Figure size 432x288 with 1 Axes>"
      ]
     },
     "metadata": {
      "needs_background": "light"
     },
     "output_type": "display_data"
    }
   ],
   "source": [
    "pd.DataFrame(history.history).plot()\n",
    "plt.grid(True)\n",
    "plt.gca().set_ylim(0, 1)\n",
    "plt.show()"
   ]
  },
  {
   "cell_type": "markdown",
   "metadata": {},
   "source": [
    "### (4) Evaluate Model and Make Predictions"
   ]
  },
  {
   "cell_type": "code",
   "execution_count": 22,
   "metadata": {},
   "outputs": [
    {
     "name": "stdout",
     "output_type": "stream",
     "text": [
      "10000/10000 [==============================] - 0s 42us/sample - loss: 0.2528 - accuracy: 0.9290\n"
     ]
    },
    {
     "data": {
      "text/plain": [
       "[0.25282798545658586, 0.929]"
      ]
     },
     "execution_count": 22,
     "metadata": {},
     "output_type": "execute_result"
    }
   ],
   "source": [
    "model.evaluate(X_test, y_test)"
   ]
  },
  {
   "cell_type": "code",
   "execution_count": 33,
   "metadata": {},
   "outputs": [
    {
     "data": {
      "text/plain": [
       "array([[0.  , 0.  , 0.  , 0.  , 0.86, 0.  , 0.  , 0.02, 0.  , 0.11]],\n",
       "      dtype=float32)"
      ]
     },
     "execution_count": 33,
     "metadata": {},
     "output_type": "execute_result"
    }
   ],
   "source": [
    "X_42 = X_test[42:43]\n",
    "model.predict(X_42).round(2)"
   ]
  },
  {
   "cell_type": "code",
   "execution_count": 34,
   "metadata": {},
   "outputs": [
    {
     "data": {
      "text/plain": [
       "array([4])"
      ]
     },
     "execution_count": 34,
     "metadata": {},
     "output_type": "execute_result"
    }
   ],
   "source": [
    "model.predict_classes(X_42)"
   ]
  },
  {
   "cell_type": "code",
   "execution_count": 31,
   "metadata": {},
   "outputs": [
    {
     "data": {
      "text/plain": [
       "4"
      ]
     },
     "execution_count": 31,
     "metadata": {},
     "output_type": "execute_result"
    }
   ],
   "source": [
    "y_test[42]"
   ]
  },
  {
   "cell_type": "markdown",
   "metadata": {},
   "source": [
    "### Build a Regression MLP\n",
    "\n",
    "Differences from the classification MLP:\n",
    "\n",
    "1. The output layer has a single neuron with no activation function: `    layers.Dense(1)`\n",
    "2. Use MSQ as loss function: `model.compile(loss=\"mean_squared_error\", optimizer=\"sgd\")`"
   ]
  },
  {
   "cell_type": "markdown",
   "metadata": {},
   "source": [
    "## 2. Building Complex Models with **Functional API**\n",
    "\n",
    "eg. Build a *Wide & Deep neural network* (Heng-Tze Chent et al., 2016)\n",
    "### (1-4) Define -> Compile -> Train -> Evaluate / Predict"
   ]
  },
  {
   "cell_type": "code",
   "execution_count": 55,
   "metadata": {},
   "outputs": [],
   "source": [
    "input_ = keras.layers.Input(shape=X_train.shape[1:])\n",
    "flatten = keras.layers.Flatten(input_shape=[28, 28])(input_)\n",
    "hidden1 = keras.layers.Dense(30, activation=\"relu\")(flatten)\n",
    "hidden2 = keras.layers.Dense(30, activation=\"relu\")(hidden1)\n",
    "concat = keras.layers.Concatenate()([flatten, hidden2])\n",
    "output = keras.layers.Dense(10, activation=\"softmax\")(concat)\n",
    "model2 = keras.Model(inputs=[input_], outputs=[output])"
   ]
  },
  {
   "cell_type": "code",
   "execution_count": 56,
   "metadata": {},
   "outputs": [
    {
     "name": "stdout",
     "output_type": "stream",
     "text": [
      "Model: \"model_6\"\n",
      "__________________________________________________________________________________________________\n",
      "Layer (type)                    Output Shape         Param #     Connected to                     \n",
      "==================================================================================================\n",
      "input_9 (InputLayer)            [(None, 28, 28)]     0                                            \n",
      "__________________________________________________________________________________________________\n",
      "flatten_6 (Flatten)             (None, 784)          0           input_9[0][0]                    \n",
      "__________________________________________________________________________________________________\n",
      "dense_23 (Dense)                (None, 30)           23550       flatten_6[0][0]                  \n",
      "__________________________________________________________________________________________________\n",
      "dense_24 (Dense)                (None, 30)           930         dense_23[0][0]                   \n",
      "__________________________________________________________________________________________________\n",
      "concatenate_7 (Concatenate)     (None, 814)          0           flatten_6[0][0]                  \n",
      "                                                                 dense_24[0][0]                   \n",
      "__________________________________________________________________________________________________\n",
      "dense_25 (Dense)                (None, 10)           8150        concatenate_7[0][0]              \n",
      "==================================================================================================\n",
      "Total params: 32,630\n",
      "Trainable params: 32,630\n",
      "Non-trainable params: 0\n",
      "__________________________________________________________________________________________________\n"
     ]
    }
   ],
   "source": [
    "model2.summary()"
   ]
  },
  {
   "cell_type": "code",
   "execution_count": 57,
   "metadata": {},
   "outputs": [],
   "source": [
    "model2.compile(loss=\"sparse_categorical_crossentropy\",\n",
    "              optimizer=\"sgd\",\n",
    "              metrics=[\"accuracy\"])"
   ]
  },
  {
   "cell_type": "code",
   "execution_count": 63,
   "metadata": {
    "scrolled": true
   },
   "outputs": [
    {
     "name": "stdout",
     "output_type": "stream",
     "text": [
      "Train on 55000 samples, validate on 5000 samples\n",
      "Epoch 1/30\n",
      "55000/55000 [==============================] - 3s 57us/sample - loss: 0.2616 - accuracy: 0.9267 - val_loss: 0.2478 - val_accuracy: 0.9296\n",
      "Epoch 2/30\n",
      "55000/55000 [==============================] - 3s 59us/sample - loss: 0.2596 - accuracy: 0.9270 - val_loss: 0.2459 - val_accuracy: 0.9302\n",
      "Epoch 3/30\n",
      "55000/55000 [==============================] - 3s 57us/sample - loss: 0.2576 - accuracy: 0.9276 - val_loss: 0.2441 - val_accuracy: 0.9312\n",
      "Epoch 4/30\n",
      "55000/55000 [==============================] - 3s 56us/sample - loss: 0.2556 - accuracy: 0.9279 - val_loss: 0.2425 - val_accuracy: 0.9312\n",
      "Epoch 5/30\n",
      "55000/55000 [==============================] - 3s 60us/sample - loss: 0.2537 - accuracy: 0.9285 - val_loss: 0.2406 - val_accuracy: 0.9324\n",
      "Epoch 6/30\n",
      "55000/55000 [==============================] - 3s 61us/sample - loss: 0.2518 - accuracy: 0.9288 - val_loss: 0.2388 - val_accuracy: 0.9318\n",
      "Epoch 7/30\n",
      "55000/55000 [==============================] - 3s 58us/sample - loss: 0.2500 - accuracy: 0.9292 - val_loss: 0.2374 - val_accuracy: 0.9332\n",
      "Epoch 8/30\n",
      "55000/55000 [==============================] - 3s 62us/sample - loss: 0.2481 - accuracy: 0.9301 - val_loss: 0.2353 - val_accuracy: 0.9332\n",
      "Epoch 9/30\n",
      "55000/55000 [==============================] - 3s 58us/sample - loss: 0.2463 - accuracy: 0.9303 - val_loss: 0.2338 - val_accuracy: 0.9338\n",
      "Epoch 10/30\n",
      "55000/55000 [==============================] - 3s 58us/sample - loss: 0.2445 - accuracy: 0.9310 - val_loss: 0.2321 - val_accuracy: 0.9346\n",
      "Epoch 11/30\n",
      "55000/55000 [==============================] - 3s 59us/sample - loss: 0.2428 - accuracy: 0.9313 - val_loss: 0.2305 - val_accuracy: 0.9350\n",
      "Epoch 12/30\n",
      "55000/55000 [==============================] - 3s 55us/sample - loss: 0.2410 - accuracy: 0.9316 - val_loss: 0.2291 - val_accuracy: 0.9346\n",
      "Epoch 13/30\n",
      "55000/55000 [==============================] - 3s 55us/sample - loss: 0.2393 - accuracy: 0.9321 - val_loss: 0.2275 - val_accuracy: 0.9350\n",
      "Epoch 14/30\n",
      "55000/55000 [==============================] - 3s 59us/sample - loss: 0.2376 - accuracy: 0.9326 - val_loss: 0.2257 - val_accuracy: 0.9362\n",
      "Epoch 15/30\n",
      "55000/55000 [==============================] - 3s 59us/sample - loss: 0.2359 - accuracy: 0.9331 - val_loss: 0.2240 - val_accuracy: 0.9368\n",
      "Epoch 16/30\n",
      "55000/55000 [==============================] - 3s 57us/sample - loss: 0.2342 - accuracy: 0.9336 - val_loss: 0.2225 - val_accuracy: 0.9374\n",
      "Epoch 17/30\n",
      "55000/55000 [==============================] - 3s 57us/sample - loss: 0.2326 - accuracy: 0.9341 - val_loss: 0.2209 - val_accuracy: 0.9380\n",
      "Epoch 18/30\n",
      "55000/55000 [==============================] - 3s 58us/sample - loss: 0.2309 - accuracy: 0.9344 - val_loss: 0.2198 - val_accuracy: 0.9378\n",
      "Epoch 19/30\n",
      "55000/55000 [==============================] - 3s 56us/sample - loss: 0.2294 - accuracy: 0.9348 - val_loss: 0.2182 - val_accuracy: 0.9378\n",
      "Epoch 20/30\n",
      "55000/55000 [==============================] - 3s 57us/sample - loss: 0.2278 - accuracy: 0.9356 - val_loss: 0.2166 - val_accuracy: 0.9390\n",
      "Epoch 21/30\n",
      "55000/55000 [==============================] - 3s 59us/sample - loss: 0.2262 - accuracy: 0.9357 - val_loss: 0.2153 - val_accuracy: 0.9392\n",
      "Epoch 22/30\n",
      "55000/55000 [==============================] - 3s 58us/sample - loss: 0.2247 - accuracy: 0.9361 - val_loss: 0.2138 - val_accuracy: 0.9398\n",
      "Epoch 23/30\n",
      "55000/55000 [==============================] - 3s 59us/sample - loss: 0.2232 - accuracy: 0.9367 - val_loss: 0.2124 - val_accuracy: 0.9402- loss: 0.2229 - accuracy: \n",
      "Epoch 24/30\n",
      "55000/55000 [==============================] - 3s 58us/sample - loss: 0.2217 - accuracy: 0.9370 - val_loss: 0.2111 - val_accuracy: 0.9404\n",
      "Epoch 25/30\n",
      "55000/55000 [==============================] - 3s 56us/sample - loss: 0.2202 - accuracy: 0.9375 - val_loss: 0.2095 - val_accuracy: 0.9414\n",
      "Epoch 26/30\n",
      "55000/55000 [==============================] - 3s 58us/sample - loss: 0.2187 - accuracy: 0.9379 - val_loss: 0.2085 - val_accuracy: 0.9410\n",
      "Epoch 27/30\n",
      "55000/55000 [==============================] - 3s 55us/sample - loss: 0.2173 - accuracy: 0.9380 - val_loss: 0.2072 - val_accuracy: 0.9420\n",
      "Epoch 28/30\n",
      "55000/55000 [==============================] - 3s 56us/sample - loss: 0.2159 - accuracy: 0.9387 - val_loss: 0.2059 - val_accuracy: 0.9422\n",
      "Epoch 29/30\n",
      "55000/55000 [==============================] - 3s 58us/sample - loss: 0.2145 - accuracy: 0.9393 - val_loss: 0.2045 - val_accuracy: 0.9428\n",
      "Epoch 30/30\n",
      "55000/55000 [==============================] - 3s 61us/sample - loss: 0.2131 - accuracy: 0.9396 - val_loss: 0.2031 - val_accuracy: 0.9430\n"
     ]
    }
   ],
   "source": [
    "history = model2.fit(X_train, y_train, epochs=30, \n",
    "                    validation_data=(X_valid, y_valid))"
   ]
  },
  {
   "cell_type": "code",
   "execution_count": 59,
   "metadata": {},
   "outputs": [
    {
     "data": {
      "image/png": "[encoded data removed]",
      "text/plain": [
       "<Figure size 432x288 with 1 Axes>"
      ]
     },
     "metadata": {
      "needs_background": "light"
     },
     "output_type": "display_data"
    }
   ],
   "source": [
    "pd.DataFrame(history.history).plot()\n",
    "plt.grid(True)\n",
    "plt.gca().set_ylim(0, 1)\n",
    "plt.show()"
   ]
  },
  {
   "cell_type": "code",
   "execution_count": 72,
   "metadata": {},
   "outputs": [
    {
     "name": "stdout",
     "output_type": "stream",
     "text": [
      "10000/10000 [==============================] - 0s 35us/sample - loss: 0.1085 - accuracy: 0.9677\n"
     ]
    },
    {
     "data": {
      "text/plain": [
       "[0.1084565799404867, 0.9677]"
      ]
     },
     "execution_count": 72,
     "metadata": {},
     "output_type": "execute_result"
    }
   ],
   "source": [
    "model2.evaluate(X_test, y_test)"
   ]
  },
  {
   "cell_type": "markdown",
   "metadata": {},
   "source": [
    "## Save & Restore the model"
   ]
  },
  {
   "cell_type": "code",
   "execution_count": 64,
   "metadata": {},
   "outputs": [],
   "source": [
    "model2.save(\"functional_model.h5\")"
   ]
  },
  {
   "cell_type": "code",
   "execution_count": null,
   "metadata": {},
   "outputs": [],
   "source": [
    "reloaded_model = keras.models.load_model(\"functional_model.h5\")"
   ]
  },
  {
   "cell_type": "markdown",
   "metadata": {},
   "source": [
    "## Callbacks: **ModelCheckpoint** & **EarlyStopping**\n",
    "\n",
    "Autosave your models at regular intervals and stops early when no progress is made on the validation set."
   ]
  },
  {
   "cell_type": "code",
   "execution_count": null,
   "metadata": {
    "scrolled": true
   },
   "outputs": [],
   "source": [
    "checkpoint_cb = keras.callbacks.ModelCheckpoint(\"functional_model.h5\")\n",
    "early_stopping_cb = keras.callbacks.EarlyStopping(patience=10,\n",
    "                                                  restore_best_weights=True)\n",
    "history = model2.fit(X_train, y_train, epochs=100,\n",
    "                    validation_data=(X_valid, y_valid),\n",
    "                    callbacks=[checkpoint_cb, early_stopping_cb])"
   ]
  },
  {
   "cell_type": "markdown",
   "metadata": {},
   "source": [
    "## Write logs and use TensorBoard"
   ]
  },
  {
   "cell_type": "code",
   "execution_count": 67,
   "metadata": {},
   "outputs": [],
   "source": [
    "import os\n",
    "root_logdir = os.path.join(os.curdir, \"my_logs\")\n",
    "\n",
    "def get_run_logdir():\n",
    "    import time\n",
    "    run_id = time.strftime(\"run_%Y_%m_%d-%H_%M_%S\")\n",
    "    return os.path.join(root_logdir, run_id)\n",
    "\n",
    "run_logdir = get_run_logdir()"
   ]
  },
  {
   "cell_type": "code",
   "execution_count": 71,
   "metadata": {
    "scrolled": true
   },
   "outputs": [
    {
     "name": "stdout",
     "output_type": "stream",
     "text": [
      "Train on 55000 samples, validate on 5000 samples\n",
      "Epoch 1/100\n",
      "55000/55000 [==============================] - 3s 58us/sample - loss: 0.0797 - accuracy: 0.9778 - val_loss: 0.1077 - val_accuracy: 0.9680\n",
      "Epoch 2/100\n",
      "55000/55000 [==============================] - 3s 57us/sample - loss: 0.0794 - accuracy: 0.9782 - val_loss: 0.1079 - val_accuracy: 0.9674\n",
      "Epoch 3/100\n",
      "55000/55000 [==============================] - 3s 58us/sample - loss: 0.0793 - accuracy: 0.9780 - val_loss: 0.1076 - val_accuracy: 0.9680\n",
      "Epoch 4/100\n",
      "55000/55000 [==============================] - 3s 63us/sample - loss: 0.0790 - accuracy: 0.9784 - val_loss: 0.1073 - val_accuracy: 0.9674\n",
      "Epoch 5/100\n",
      "55000/55000 [==============================] - 3s 57us/sample - loss: 0.0788 - accuracy: 0.9784 - val_loss: 0.1074 - val_accuracy: 0.9668\n",
      "Epoch 6/100\n",
      "55000/55000 [==============================] - 3s 58us/sample - loss: 0.0785 - accuracy: 0.9786 - val_loss: 0.1073 - val_accuracy: 0.9678\n",
      "Epoch 7/100\n",
      "55000/55000 [==============================] - 3s 57us/sample - loss: 0.0783 - accuracy: 0.9786 - val_loss: 0.1081 - val_accuracy: 0.9676\n",
      "Epoch 8/100\n",
      "55000/55000 [==============================] - 3s 58us/sample - loss: 0.0781 - accuracy: 0.9784 - val_loss: 0.1073 - val_accuracy: 0.9678\n",
      "Epoch 9/100\n",
      "55000/55000 [==============================] - 3s 61us/sample - loss: 0.0779 - accuracy: 0.9788 - val_loss: 0.1075 - val_accuracy: 0.9682: 0.0772 - accuracy:  - ETA: 0s - loss: 0.0778 - accuracy: 0.97\n",
      "Epoch 10/100\n",
      "55000/55000 [==============================] - 3s 58us/sample - loss: 0.0776 - accuracy: 0.9788 - val_loss: 0.1078 - val_accuracy: 0.9674\n",
      "Epoch 11/100\n",
      "55000/55000 [==============================] - 3s 58us/sample - loss: 0.0774 - accuracy: 0.9789 - val_loss: 0.1070 - val_accuracy: 0.9676\n",
      "Epoch 12/100\n",
      "55000/55000 [==============================] - 3s 57us/sample - loss: 0.0771 - accuracy: 0.9788 - val_loss: 0.1078 - val_accuracy: 0.9690\n",
      "Epoch 13/100\n",
      "55000/55000 [==============================] - 3s 62us/sample - loss: 0.0770 - accuracy: 0.9790 - val_loss: 0.1072 - val_accuracy: 0.9678\n",
      "Epoch 14/100\n",
      "55000/55000 [==============================] - 3s 57us/sample - loss: 0.0767 - accuracy: 0.9792 - val_loss: 0.1071 - val_accuracy: 0.9690\n",
      "Epoch 15/100\n",
      "55000/55000 [==============================] - 3s 61us/sample - loss: 0.0765 - accuracy: 0.9789 - val_loss: 0.1070 - val_accuracy: 0.9692\n",
      "Epoch 16/100\n",
      "55000/55000 [==============================] - 3s 59us/sample - loss: 0.0763 - accuracy: 0.9793 - val_loss: 0.1065 - val_accuracy: 0.9682\n",
      "Epoch 17/100\n",
      "55000/55000 [==============================] - 3s 57us/sample - loss: 0.0761 - accuracy: 0.9791 - val_loss: 0.1064 - val_accuracy: 0.9688\n",
      "Epoch 18/100\n",
      "55000/55000 [==============================] - 3s 58us/sample - loss: 0.0759 - accuracy: 0.9792 - val_loss: 0.1070 - val_accuracy: 0.9682\n",
      "Epoch 19/100\n",
      "55000/55000 [==============================] - 3s 57us/sample - loss: 0.0757 - accuracy: 0.9793 - val_loss: 0.1065 - val_accuracy: 0.9680\n",
      "Epoch 20/100\n",
      "55000/55000 [==============================] - 3s 59us/sample - loss: 0.0754 - accuracy: 0.9793 - val_loss: 0.1065 - val_accuracy: 0.9686\n",
      "Epoch 21/100\n",
      "55000/55000 [==============================] - 3s 57us/sample - loss: 0.0752 - accuracy: 0.9793 - val_loss: 0.1067 - val_accuracy: 0.9690\n",
      "Epoch 22/100\n",
      "55000/55000 [==============================] - 3s 61us/sample - loss: 0.0750 - accuracy: 0.9794 - val_loss: 0.1066 - val_accuracy: 0.9682\n",
      "Epoch 23/100\n",
      "55000/55000 [==============================] - 3s 58us/sample - loss: 0.0748 - accuracy: 0.9796 - val_loss: 0.1063 - val_accuracy: 0.9680\n",
      "Epoch 24/100\n",
      "55000/55000 [==============================] - 3s 58us/sample - loss: 0.0746 - accuracy: 0.9797 - val_loss: 0.1064 - val_accuracy: 0.9698\n",
      "Epoch 25/100\n",
      "55000/55000 [==============================] - 3s 58us/sample - loss: 0.0744 - accuracy: 0.9797 - val_loss: 0.1064 - val_accuracy: 0.9698\n",
      "Epoch 26/100\n",
      "55000/55000 [==============================] - 3s 60us/sample - loss: 0.0742 - accuracy: 0.9797 - val_loss: 0.1063 - val_accuracy: 0.9696\n",
      "Epoch 27/100\n",
      "55000/55000 [==============================] - 3s 58us/sample - loss: 0.0740 - accuracy: 0.9798 - val_loss: 0.1062 - val_accuracy: 0.9688\n",
      "Epoch 28/100\n",
      "55000/55000 [==============================] - 3s 57us/sample - loss: 0.0738 - accuracy: 0.9799 - val_loss: 0.1059 - val_accuracy: 0.9690\n",
      "Epoch 29/100\n",
      "55000/55000 [==============================] - 3s 58us/sample - loss: 0.0735 - accuracy: 0.9801 - val_loss: 0.1062 - val_accuracy: 0.9690\n",
      "Epoch 30/100\n",
      "55000/55000 [==============================] - 3s 57us/sample - loss: 0.0733 - accuracy: 0.9798 - val_loss: 0.1056 - val_accuracy: 0.9688\n",
      "Epoch 31/100\n",
      "55000/55000 [==============================] - 3s 57us/sample - loss: 0.0731 - accuracy: 0.9798 - val_loss: 0.1059 - val_accuracy: 0.9690\n",
      "Epoch 32/100\n",
      "55000/55000 [==============================] - 3s 62us/sample - loss: 0.0730 - accuracy: 0.9799 - val_loss: 0.1062 - val_accuracy: 0.9684\n",
      "Epoch 33/100\n",
      "55000/55000 [==============================] - 3s 57us/sample - loss: 0.0728 - accuracy: 0.9801 - val_loss: 0.1062 - val_accuracy: 0.9676\n",
      "Epoch 34/100\n",
      "55000/55000 [==============================] - 3s 57us/sample - loss: 0.0725 - accuracy: 0.9802 - val_loss: 0.1062 - val_accuracy: 0.9692\n",
      "Epoch 35/100\n",
      "55000/55000 [==============================] - 3s 57us/sample - loss: 0.0723 - accuracy: 0.9801 - val_loss: 0.1056 - val_accuracy: 0.9670\n",
      "Epoch 36/100\n",
      "55000/55000 [==============================] - 3s 57us/sample - loss: 0.0722 - accuracy: 0.9803 - val_loss: 0.1058 - val_accuracy: 0.9680\n",
      "Epoch 37/100\n",
      "55000/55000 [==============================] - 3s 58us/sample - loss: 0.0720 - accuracy: 0.9803 - val_loss: 0.1055 - val_accuracy: 0.9686\n",
      "Epoch 38/100\n",
      "55000/55000 [==============================] - 3s 57us/sample - loss: 0.0717 - accuracy: 0.9803 - val_loss: 0.1055 - val_accuracy: 0.9686\n",
      "Epoch 39/100\n",
      "55000/55000 [==============================] - 3s 57us/sample - loss: 0.0716 - accuracy: 0.9804 - val_loss: 0.1055 - val_accuracy: 0.9678\n",
      "Epoch 40/100\n",
      "55000/55000 [==============================] - 3s 57us/sample - loss: 0.0713 - accuracy: 0.9804 - val_loss: 0.1057 - val_accuracy: 0.9694\n",
      "Epoch 41/100\n",
      "55000/55000 [==============================] - 3s 63us/sample - loss: 0.0712 - accuracy: 0.9805 - val_loss: 0.1058 - val_accuracy: 0.9698\n",
      "Epoch 42/100\n",
      "55000/55000 [==============================] - 3s 58us/sample - loss: 0.0710 - accuracy: 0.9807 - val_loss: 0.1054 - val_accuracy: 0.9682\n",
      "Epoch 43/100\n",
      "55000/55000 [==============================] - 3s 58us/sample - loss: 0.0708 - accuracy: 0.9803 - val_loss: 0.1054 - val_accuracy: 0.9692\n",
      "Epoch 44/100\n",
      "55000/55000 [==============================] - 3s 57us/sample - loss: 0.0705 - accuracy: 0.9805 - val_loss: 0.1052 - val_accuracy: 0.96860703 - ac\n",
      "Epoch 45/100\n",
      "55000/55000 [==============================] - 3s 57us/sample - loss: 0.0704 - accuracy: 0.9807 - val_loss: 0.1055 - val_accuracy: 0.9690\n",
      "Epoch 46/100\n",
      "55000/55000 [==============================] - 3s 58us/sample - loss: 0.0702 - accuracy: 0.9807 - val_loss: 0.1054 - val_accuracy: 0.9678\n",
      "Epoch 47/100\n",
      "55000/55000 [==============================] - 3s 58us/sample - loss: 0.0700 - accuracy: 0.9807 - val_loss: 0.1051 - val_accuracy: 0.9680\n",
      "Epoch 48/100\n",
      "55000/55000 [==============================] - 3s 57us/sample - loss: 0.0698 - accuracy: 0.9808 - val_loss: 0.1049 - val_accuracy: 0.9692\n",
      "Epoch 49/100\n",
      "55000/55000 [==============================] - 3s 57us/sample - loss: 0.0696 - accuracy: 0.9809 - val_loss: 0.1050 - val_accuracy: 0.9690\n",
      "Epoch 50/100\n",
      "55000/55000 [==============================] - 3s 59us/sample - loss: 0.0694 - accuracy: 0.9808 - val_loss: 0.1056 - val_accuracy: 0.9676\n",
      "Epoch 51/100\n",
      "55000/55000 [==============================] - 3s 59us/sample - loss: 0.0692 - accuracy: 0.9808 - val_loss: 0.1058 - val_accuracy: 0.9694\n",
      "Epoch 52/100\n",
      "55000/55000 [==============================] - 3s 58us/sample - loss: 0.0690 - accuracy: 0.9809 - val_loss: 0.1054 - val_accuracy: 0.9686\n",
      "Epoch 53/100\n",
      "55000/55000 [==============================] - 3s 58us/sample - loss: 0.0689 - accuracy: 0.9809 - val_loss: 0.1047 - val_accuracy: 0.9692\n",
      "Epoch 54/100\n"
     ]
    },
    {
     "name": "stdout",
     "output_type": "stream",
     "text": [
      "55000/55000 [==============================] - 3s 56us/sample - loss: 0.0687 - accuracy: 0.9813 - val_loss: 0.1052 - val_accuracy: 0.9696\n",
      "Epoch 55/100\n",
      "55000/55000 [==============================] - 3s 55us/sample - loss: 0.0685 - accuracy: 0.9810 - val_loss: 0.1051 - val_accuracy: 0.9682\n",
      "Epoch 56/100\n",
      "55000/55000 [==============================] - 3s 56us/sample - loss: 0.0683 - accuracy: 0.9813 - val_loss: 0.1055 - val_accuracy: 0.9694\n",
      "Epoch 57/100\n",
      "55000/55000 [==============================] - 3s 55us/sample - loss: 0.0680 - accuracy: 0.9811 - val_loss: 0.1051 - val_accuracy: 0.9678\n",
      "Epoch 58/100\n",
      "55000/55000 [==============================] - 3s 56us/sample - loss: 0.0680 - accuracy: 0.9812 - val_loss: 0.1049 - val_accuracy: 0.9682\n",
      "Epoch 59/100\n",
      "55000/55000 [==============================] - 3s 55us/sample - loss: 0.0677 - accuracy: 0.9813 - val_loss: 0.1051 - val_accuracy: 0.9694\n",
      "Epoch 60/100\n",
      "55000/55000 [==============================] - 3s 60us/sample - loss: 0.0676 - accuracy: 0.9814 - val_loss: 0.1057 - val_accuracy: 0.9696\n",
      "Epoch 61/100\n",
      "55000/55000 [==============================] - 3s 55us/sample - loss: 0.0674 - accuracy: 0.9813 - val_loss: 0.1050 - val_accuracy: 0.9686\n",
      "Epoch 62/100\n",
      "55000/55000 [==============================] - 3s 55us/sample - loss: 0.0672 - accuracy: 0.9813 - val_loss: 0.1056 - val_accuracy: 0.9694\n",
      "Epoch 63/100\n",
      "55000/55000 [==============================] - 3s 55us/sample - loss: 0.0670 - accuracy: 0.9817 - val_loss: 0.1051 - val_accuracy: 0.9672\n"
     ]
    }
   ],
   "source": [
    "tensorboard_cb = keras.callbacks.TensorBoard(run_logdir)\n",
    "history = model2.fit(X_train, y_train, epochs=100,\n",
    "                    validation_data=(X_valid, y_valid),\n",
    "                    callbacks=[tensorboard_cb, checkpoint_cb, early_stopping_cb])"
   ]
  },
  {
   "cell_type": "markdown",
   "metadata": {},
   "source": [
    "To visualize in TensorBoard:\n",
    "`tensorboard --logdir=./my_logs --port=6006`"
   ]
  },
  {
   "cell_type": "markdown",
   "metadata": {},
   "source": [
    "## Fine-Tuing Neural Network Hyperparameters\n",
    "\n",
    "Hyperparameters such as:\n",
    "+ Learning rate: `lr`\n",
    "+ Number of hidden layers (tip: 1-2 layers)\n",
    "+ Number of neurons in hidden layers (tip: reversed pyramid shape)\n",
    "\n",
    "Wrap the keras model in a sklearn model:\n",
    "`keras_reg = keras.wrappers.scikit_learn.KerasRegressor(build_model_function)`\n",
    "and use `RandomSearchCV` or `GridSearchCV`"
   ]
  }
 ],
 "metadata": {
  "kernelspec": {
   "display_name": "Python 3",
   "language": "python",
   "name": "python3"
  },
  "language_info": {
   "codemirror_mode": {
    "name": "ipython",
    "version": 3
   },
   "file_extension": ".py",
   "mimetype": "text/x-python",
   "name": "python",
   "nbconvert_exporter": "python",
   "pygments_lexer": "ipython3",
   "version": "3.6.5"
  }
 },
 "nbformat": 4,
 "nbformat_minor": 2
}
